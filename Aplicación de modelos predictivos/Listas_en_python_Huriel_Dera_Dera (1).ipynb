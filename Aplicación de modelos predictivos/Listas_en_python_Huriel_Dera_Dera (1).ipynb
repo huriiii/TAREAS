{
  "cells": [
    {
      "cell_type": "markdown",
      "id": "fc1dc49e",
      "metadata": {
        "id": "fc1dc49e"
      },
      "source": [
        "  <img src=\"python.png\" width='100' height='100'>  <center>  Listas en Python </center>"
      ]
    },
    {
      "cell_type": "markdown",
      "id": "57e1aa9d",
      "metadata": {
        "id": "57e1aa9d"
      },
      "source": [
        "Las listas en Python son un tipo de dato que permite almacenar datos de cualquier tipo. Son mutables y dinámicas, lo cual es la principal diferencia con los sets y las tuplas.\n",
        "\n",
        "## Crear listas Python\n",
        "\n",
        "Las listas en Python son uno de los tipos o estructuras de datos más versátiles del lenguaje, ya que permiten almacenar un conjunto arbitrario de datos. Es decir, podemos guardar en ellas prácticamente lo que sea. Si vienes de otros lenguajes de programación, se podría decir que son similares a los arrays."
      ]
    },
    {
      "cell_type": "code",
      "execution_count": null,
      "id": "ccbfef58",
      "metadata": {
        "id": "ccbfef58"
      },
      "outputs": [],
      "source": [
        "lista = [1, 2, 3, 4]"
      ]
    },
    {
      "cell_type": "code",
      "execution_count": null,
      "id": "b8351efe",
      "metadata": {
        "id": "b8351efe"
      },
      "outputs": [],
      "source": [
        "# También se puede crear usando list y pasando un objeto iterable.\n",
        "lista = list(\"1234\")"
      ]
    },
    {
      "cell_type": "markdown",
      "id": "ee7809df",
      "metadata": {
        "id": "ee7809df"
      },
      "source": [
        "Una lista sea crea con [] separando sus elementos con comas ,. Una gran ventaja es que pueden almacenar tipos de datos distintos."
      ]
    },
    {
      "cell_type": "code",
      "execution_count": null,
      "id": "b947e57f",
      "metadata": {
        "id": "b947e57f"
      },
      "outputs": [],
      "source": [
        "lista = [1, \"Hola\", 3.67, [1, 2, 3]]"
      ]
    },
    {
      "cell_type": "markdown",
      "id": "b6273e5b",
      "metadata": {
        "id": "b6273e5b"
      },
      "source": [
        "Algunas propiedades de las listas:\n",
        "\n",
        "Son ordenadas, mantienen el orden en el que han sido definidas\n",
        "Pueden ser formadas por tipos arbitrarios\n",
        "Pueden ser indexadas con [i].\n",
        "Se pueden anidar, es decir, meter una dentro de la otra.\n",
        "Son mutables, ya que sus elementos pueden ser modificados.\n",
        "Son dinámicas, ya que se pueden añadir o eliminar elementos.\n",
        "\n",
        "## Acceder y modificar listas\n",
        "\n",
        "Si tenemos una lista a con 3 elementos almacenados en ella, podemos acceder a los mismos usando corchetes y un índice, que va desde 0 a n-1 siendo n el tamaño de la lista."
      ]
    },
    {
      "cell_type": "code",
      "execution_count": null,
      "id": "f0aa256d",
      "metadata": {
        "id": "f0aa256d"
      },
      "outputs": [],
      "source": [
        "a = [90, \"Python\", 3.87]\n",
        "print(a[0]) #90\n",
        "print(a[1]) #Python\n",
        "print(a[2]) #3.87"
      ]
    },
    {
      "cell_type": "code",
      "execution_count": null,
      "id": "7eceecd4",
      "metadata": {
        "id": "7eceecd4"
      },
      "outputs": [],
      "source": [
        "#Se puede también acceder al último elemento usando el índice [-1]\n",
        "print(a[-2]) #Python"
      ]
    },
    {
      "cell_type": "code",
      "execution_count": null,
      "id": "dbda4578",
      "metadata": {
        "id": "dbda4578"
      },
      "outputs": [],
      "source": [
        "#Y si queremos modificar un elemento de la lista, basta con asignar con el operador = el nuevo valor.\n",
        "a[2] = 1\n",
        "print(a) #[90, 'Python', 1]"
      ]
    },
    {
      "cell_type": "code",
      "execution_count": null,
      "id": "85ab32c0",
      "metadata": {
        "id": "85ab32c0"
      },
      "outputs": [],
      "source": [
        "#Un elemento puede ser eliminado con diferentes métodos como veremos a continuación,\n",
        "#o con del y la lista con el índice a eliminar.\n",
        "l = [1, 2, 3, 4, 5]\n",
        "del l[1]\n",
        "print(l) #[1, 3, 4, 5]"
      ]
    },
    {
      "cell_type": "markdown",
      "id": "a6861c50",
      "metadata": {
        "id": "a6861c50"
      },
      "source": [
        "También podemos tener listas anidadas, es decir, una lista dentro de otra. Incluso podemos tener una lista dentro de otra lista y a su vez dentro de otra lista. Para acceder a sus elementos sólo tenemos que usar [] tantas veces como niveles de anidado tengamos."
      ]
    },
    {
      "cell_type": "code",
      "execution_count": null,
      "id": "de44f673",
      "metadata": {
        "id": "de44f673"
      },
      "outputs": [],
      "source": [
        "x = [1, 2, 3, ['p', 'q', [5, 6, 7]]]\n",
        "print(x[3][0])    #p\n",
        "print(x[3][2][0]) #5\n",
        "print(x[3][2][2]) #7"
      ]
    },
    {
      "cell_type": "code",
      "execution_count": null,
      "id": "7671cdb8",
      "metadata": {
        "id": "7671cdb8"
      },
      "outputs": [],
      "source": [
        "# Y de la misma manera podemos modificar múltiples valores de la lista a la vez usando :\n",
        "l = [1, 2, 3, 4, 5, 6]\n",
        "l[0:3] = [0, 0, 0]\n",
        "print(l) #[0, 0, 0, 4, 5, 6]"
      ]
    },
    {
      "cell_type": "code",
      "execution_count": null,
      "id": "2aeb0419",
      "metadata": {
        "id": "2aeb0419"
      },
      "outputs": [],
      "source": [
        "# Hay ciertos operadores como el + que pueden ser usados sobre las listas.\n",
        "l = [1, 2, 3]\n",
        "l += [4, 5]\n",
        "print(l) #[1, 2, 3, 4, 5]"
      ]
    },
    {
      "cell_type": "code",
      "execution_count": null,
      "id": "e2800592",
      "metadata": {
        "id": "e2800592"
      },
      "outputs": [],
      "source": [
        "#Y una funcionalidad muy interesante es que se puede asignar una lista con n elementos a n variables.\n",
        "l = [1, 2, 3]\n",
        "x, y, z = l\n",
        "print(x, y, z) #1 2 3"
      ]
    },
    {
      "cell_type": "markdown",
      "id": "4e413350",
      "metadata": {
        "id": "4e413350"
      },
      "source": [
        "## Iterar listas\n",
        "En Python es muy fácil iterar una lista, mucho más que en otros lenguajes de programación."
      ]
    },
    {
      "cell_type": "code",
      "execution_count": null,
      "id": "ebf6ff3b",
      "metadata": {
        "id": "ebf6ff3b"
      },
      "outputs": [],
      "source": [
        "lista = [5, 9, 10]\n",
        "for l in lista:\n",
        "    print(l)\n",
        "#5\n",
        "#9\n",
        "#10"
      ]
    },
    {
      "cell_type": "code",
      "execution_count": null,
      "id": "33b65f8c",
      "metadata": {
        "id": "33b65f8c"
      },
      "outputs": [],
      "source": [
        "# Si necesitamos un índice acompañado con la lista, que tome valores desde 0 hasta n-1, se puede hacer de la siguiente manera.\n",
        "lista = [5, 9, 10]\n",
        "for index, l in enumerate(lista):\n",
        "    print(index, l)\n",
        "#0 5\n",
        "#1 9\n",
        "#2 10"
      ]
    },
    {
      "cell_type": "code",
      "execution_count": null,
      "id": "3da34a22",
      "metadata": {
        "id": "3da34a22"
      },
      "outputs": [],
      "source": [
        "# O si tenemos dos listas y las queremos iterar a la vez, también es posible hacerlo.\n",
        "lista1 = [5, 9, 10]\n",
        "lista2 = [\"Jazz\", \"Rock\", \"Djent\"]\n",
        "for l1, l2 in zip(lista1, lista2):\n",
        "    print(l1, l2)\n",
        "#5 Jazz\n",
        "#9 Rock\n",
        "#10 Djent"
      ]
    },
    {
      "cell_type": "code",
      "execution_count": null,
      "id": "cb1d6d84",
      "metadata": {
        "id": "cb1d6d84"
      },
      "outputs": [],
      "source": [
        "#Y por supuesto, también se pueden iterar las listas usando los índices como hemos visto al principio,\n",
        "# y haciendo uso de len(), que nos devuelve la longitud de la lista.\n",
        "lista1 = [5, 9, 10]\n",
        "for i in range(0, len(lista)):\n",
        "    print(lista1[i])\n",
        "#5\n",
        "#9\n",
        "#10"
      ]
    },
    {
      "cell_type": "markdown",
      "id": "7e2c1ed9",
      "metadata": {
        "id": "7e2c1ed9"
      },
      "source": [
        "## Métodos listas\n",
        "append(<obj>)\n",
        "El método append() añade un elemento al final de la lista."
      ]
    },
    {
      "cell_type": "code",
      "execution_count": null,
      "id": "47c7810c",
      "metadata": {
        "id": "47c7810c"
      },
      "outputs": [],
      "source": [
        "l = [1, 2]\n",
        "l.append(3)\n",
        "print(l) #[1, 2, 3]"
      ]
    },
    {
      "cell_type": "code",
      "execution_count": null,
      "id": "ddb04f03",
      "metadata": {
        "id": "ddb04f03"
      },
      "outputs": [],
      "source": [
        "# extend(<iterable>)\n",
        "# El método extend() permite añadir una lista a la lista inicial.\n",
        "l = [1, 3]\n",
        "l.insert(1, 2)\n",
        "print(l) #[1, 2, 3]"
      ]
    },
    {
      "cell_type": "code",
      "execution_count": null,
      "id": "a300fb23",
      "metadata": {
        "id": "a300fb23"
      },
      "outputs": [],
      "source": [
        "#remove(<obj>)\n",
        "#El método remove() recibe como argumento un objeto y lo borra de la lista.\n",
        "l = [1, 2, 3]\n",
        "l.remove(3)\n",
        "print(l) #[1, 2]"
      ]
    },
    {
      "cell_type": "code",
      "execution_count": null,
      "id": "ab50b69b",
      "metadata": {
        "id": "ab50b69b"
      },
      "outputs": [],
      "source": [
        "#pop(index=-1)\n",
        "# El método pop() elimina por defecto el último elemento de la lista,\n",
        "# pero si se pasa como parámetro un índice permite borrar elementos diferentes al último.\n",
        "l = [1, 2, 3]\n",
        "l.pop()\n",
        "print(l) #[1, 2]"
      ]
    },
    {
      "cell_type": "code",
      "execution_count": null,
      "id": "ece12439",
      "metadata": {
        "id": "ece12439"
      },
      "outputs": [],
      "source": [
        "# reverse()\n",
        "# El método reverse() inverte el órden de la lista.\n",
        "l = [1, 2, 3]\n",
        "l.reverse()\n",
        "print(l) #[3, 2, 1]"
      ]
    },
    {
      "cell_type": "code",
      "execution_count": null,
      "id": "6168bb63",
      "metadata": {
        "id": "6168bb63"
      },
      "outputs": [],
      "source": [
        "# sort()\n",
        "# El método sort() ordena los elementos de menos a mayor por defecto.\n",
        "l = [3, 1, 2]\n",
        "l.sort()\n",
        "print(l) #[1, 2, 3]"
      ]
    },
    {
      "cell_type": "code",
      "execution_count": null,
      "id": "d238f3e3",
      "metadata": {
        "id": "d238f3e3"
      },
      "outputs": [],
      "source": [
        "# Y también permite ordenar de mayor a menor si se pasa como parámetro reverse=True\n",
        "l = [3, 1, 2]\n",
        "l.sort(reverse=True)\n",
        "print(l) #[3, 2, 1]"
      ]
    },
    {
      "cell_type": "code",
      "execution_count": null,
      "id": "06c643c9",
      "metadata": {
        "id": "06c643c9"
      },
      "outputs": [],
      "source": [
        "# index(<obj>[,index])\n",
        "#El método index() recibe como parámetro un objeto y devuelve el índice de su primera aparición.\n",
        "#Como hemos visto en otras ocasiones, el índice del primer elemento es el 0.\n",
        "l = [\"Periphery\", \"Intervals\", \"Monuments\"]\n",
        "print(l.index(\"Intervals\"))"
      ]
    },
    {
      "cell_type": "code",
      "execution_count": null,
      "id": "30439223",
      "metadata": {
        "id": "30439223"
      },
      "outputs": [],
      "source": [
        "#También permite introducir un parámetro opcional que representa el índice desde el que comenzar la búsqueda del objeto.\n",
        "#Es como si ignorara todo lo que hay antes de ese índice para la búsqueda, en este caso el 4.\n",
        "l = [1, 1, 1, 1, 2, 1, 4, 5]\n",
        "print(l.index(1, 4)) #5"
      ]
    },
    {
      "cell_type": "markdown",
      "id": "48610ceb",
      "metadata": {
        "id": "48610ceb"
      },
      "source": [
        "## METACOGNICIÓN"
      ]
    },
    {
      "cell_type": "code",
      "execution_count": null,
      "id": "4482502e",
      "metadata": {
        "id": "4482502e"
      },
      "outputs": [],
      "source": [
        "#Elabora un programa que lea un arreglo de 10 posiciones que contenga las edades de 10 de sus compañeros,\n",
        "#calcule el promedio de las edades, obtenga la edad mayor y la edad menor. Al final imprima todos los elementos de la lista"
      ]
    },
    {
      "cell_type": "code",
      "source": [
        "edad = [17, 16, 18,19,15,16,17,18,18,17]\n",
        "edad.sort()\n",
        "print(edad)"
      ],
      "metadata": {
        "colab": {
          "base_uri": "https://localhost:8080/"
        },
        "id": "gQu1VAraPGDD",
        "outputId": "7d6dfe26-3dbd-4ff1-9f16-7159c81edecf"
      },
      "id": "gQu1VAraPGDD",
      "execution_count": 1,
      "outputs": [
        {
          "output_type": "stream",
          "name": "stdout",
          "text": [
            "[15, 16, 16, 17, 17, 17, 18, 18, 18, 19]\n"
          ]
        }
      ]
    },
    {
      "cell_type": "code",
      "source": [
        "edad = [17, 16, 18,19,15,16,17,18,18,17]\n",
        "\n",
        "promedio = sum(edad) // len(edad)\n",
        "\n",
        "print(\"promedio :\", promedio)"
      ],
      "metadata": {
        "colab": {
          "base_uri": "https://localhost:8080/"
        },
        "id": "CKNIcnVwPGVa",
        "outputId": "ba97d124-3ead-4944-ce3d-7c8b5c8ce78f"
      },
      "id": "CKNIcnVwPGVa",
      "execution_count": 2,
      "outputs": [
        {
          "output_type": "stream",
          "name": "stdout",
          "text": [
            "promedio : 17\n"
          ]
        }
      ]
    },
    {
      "cell_type": "code",
      "execution_count": null,
      "id": "767134d7",
      "metadata": {
        "id": "767134d7"
      },
      "outputs": [],
      "source": [
        "#Elabore un programa que lea un arreglo de 14 posiciones que contenga los sueldos de los trabajadores de una empresa\n",
        "#agregue el sueldo de un empleado más de $2,500.00, Calcule la nomina total (suma de todos los sueldos) ordene el arreglo\n",
        "#Ordene los datos, elimine el primer elemento de la fila, Al final imprima todos los elementos de la lista"
      ]
    },
    {
      "cell_type": "code",
      "source": [
        "sueldo = [2600,2700,3000,4050,4200,2675,3400,7500,6076,2334,2888,5444,9006,5443,]\n",
        "sueldo.sort()\n",
        "print(sueldo)"
      ],
      "metadata": {
        "colab": {
          "base_uri": "https://localhost:8080/"
        },
        "id": "Qp1pY-rUPGva",
        "outputId": "341ec681-ad83-4adc-a8f8-96feb2f14f72"
      },
      "id": "Qp1pY-rUPGva",
      "execution_count": 3,
      "outputs": [
        {
          "output_type": "stream",
          "name": "stdout",
          "text": [
            "[2334, 2600, 2675, 2700, 2888, 3000, 3400, 4050, 4200, 5443, 5444, 6076, 7500, 9006]\n"
          ]
        }
      ]
    },
    {
      "cell_type": "code",
      "source": [
        "promedio = sum(sueldo) // len(sueldo)\n",
        "print(\"promedio de sueldo :\", promedio)"
      ],
      "metadata": {
        "colab": {
          "base_uri": "https://localhost:8080/"
        },
        "id": "Zg_RcO1wPG18",
        "outputId": "a00281b4-e974-4ca5-80b4-15b7080f9083"
      },
      "id": "Zg_RcO1wPG18",
      "execution_count": 4,
      "outputs": [
        {
          "output_type": "stream",
          "name": "stdout",
          "text": [
            "promedio de sueldo : 4379\n"
          ]
        }
      ]
    },
    {
      "cell_type": "code",
      "source": [
        "suma = sum(sueldo)\n",
        "\n",
        "print(\"suma de los sueldos\", suma)"
      ],
      "metadata": {
        "colab": {
          "base_uri": "https://localhost:8080/"
        },
        "id": "gAiOPniBPG6S",
        "outputId": "326e745f-c9b1-461e-b1ff-287c084f7d9c"
      },
      "id": "gAiOPniBPG6S",
      "execution_count": 5,
      "outputs": [
        {
          "output_type": "stream",
          "name": "stdout",
          "text": [
            "suma de los sueldos 61316\n"
          ]
        }
      ]
    },
    {
      "cell_type": "code",
      "source": [
        "sueldo.pop(0)\n",
        "\n",
        "print(sueldo)"
      ],
      "metadata": {
        "colab": {
          "base_uri": "https://localhost:8080/"
        },
        "id": "-kR6q6y3PVJ0",
        "outputId": "1a29bf8a-56aa-4051-d486-3be66e018133"
      },
      "id": "-kR6q6y3PVJ0",
      "execution_count": 7,
      "outputs": [
        {
          "output_type": "stream",
          "name": "stdout",
          "text": [
            "[2675, 2700, 2888, 3000, 3400, 4050, 4200, 5443, 5444, 6076, 7500, 9006]\n"
          ]
        }
      ]
    }
  ],
  "metadata": {
    "kernelspec": {
      "display_name": "Python 3 (ipykernel)",
      "language": "python",
      "name": "python3"
    },
    "language_info": {
      "codemirror_mode": {
        "name": "ipython",
        "version": 3
      },
      "file_extension": ".py",
      "mimetype": "text/x-python",
      "name": "python",
      "nbconvert_exporter": "python",
      "pygments_lexer": "ipython3",
      "version": "3.9.13"
    },
    "colab": {
      "provenance": []
    }
  },
  "nbformat": 4,
  "nbformat_minor": 5
}