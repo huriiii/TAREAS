{
  "nbformat": 4,
  "nbformat_minor": 0,
  "metadata": {
    "colab": {
      "provenance": []
    },
    "kernelspec": {
      "name": "python3",
      "display_name": "Python 3"
    },
    "language_info": {
      "name": "python"
    }
  },
  "cells": [
    {
      "cell_type": "code",
      "source": [
        "!pip install docxtpl"
      ],
      "metadata": {
        "colab": {
          "base_uri": "https://localhost:8080/"
        },
        "id": "Ykl8Fhy2A8KX",
        "outputId": "cb9c1279-83a0-4e1f-90ae-d390dd71ef35"
      },
      "execution_count": 31,
      "outputs": [
        {
          "output_type": "stream",
          "name": "stdout",
          "text": [
            "Requirement already satisfied: docxtpl in /usr/local/lib/python3.10/dist-packages (0.16.8)\n",
            "Requirement already satisfied: six in /usr/local/lib/python3.10/dist-packages (from docxtpl) (1.16.0)\n",
            "Requirement already satisfied: python-docx in /usr/local/lib/python3.10/dist-packages (from docxtpl) (1.1.0)\n",
            "Requirement already satisfied: docxcompose in /usr/local/lib/python3.10/dist-packages (from docxtpl) (1.4.0)\n",
            "Requirement already satisfied: jinja2 in /usr/local/lib/python3.10/dist-packages (from docxtpl) (3.1.3)\n",
            "Requirement already satisfied: lxml in /usr/local/lib/python3.10/dist-packages (from docxtpl) (4.9.4)\n",
            "Requirement already satisfied: setuptools in /usr/local/lib/python3.10/dist-packages (from docxcompose->docxtpl) (67.7.2)\n",
            "Requirement already satisfied: babel in /usr/local/lib/python3.10/dist-packages (from docxcompose->docxtpl) (2.14.0)\n",
            "Requirement already satisfied: typing-extensions in /usr/local/lib/python3.10/dist-packages (from python-docx->docxtpl) (4.10.0)\n",
            "Requirement already satisfied: MarkupSafe>=2.0 in /usr/local/lib/python3.10/dist-packages (from jinja2->docxtpl) (2.1.5)\n"
          ]
        }
      ]
    },
    {
      "cell_type": "code",
      "source": [
        "from datetime import datetime\n",
        "\n",
        "def current_date_format(date):\n",
        "    months = (\"Enero\", \"Febrero\", \"Marzo\", \"Abri\", \"Mayo\", \"Junio\", \"Julio\", \"Agosto\", \"Septiembre\", \"Octubre\", \"Noviembre\", \"Diciembre\")\n",
        "    day = date.day\n",
        "    month = months[date.month - 1]\n",
        "    year = date.year\n",
        "    messsage = \"{} de {} del {}\".format(day, month,year)\n",
        "\n",
        "    return messsage\n",
        "\n",
        "fecha = datetime.now()\n",
        "print(current_date_format(fecha))"
      ],
      "metadata": {
        "colab": {
          "base_uri": "https://localhost:8080/"
        },
        "id": "uVqeG8PVEe-_",
        "outputId": "a626ebb4-2116-4e64-f123-f7b3818695e8"
      },
      "execution_count": 32,
      "outputs": [
        {
          "output_type": "stream",
          "name": "stdout",
          "text": [
            "21 de Marzo del 2024\n"
          ]
        }
      ]
    },
    {
      "cell_type": "code",
      "execution_count": 33,
      "metadata": {
        "id": "thMwDup9A7Wl"
      },
      "outputs": [],
      "source": [
        "import pandas as pd\n",
        "from datetime import datetime\n",
        "from docxtpl import DocxTemplate, InlineImage\n",
        "from docx.shared import Inches\n",
        "import os\n",
        "\n",
        "doc = DocxTemplate(\"word.docx\")\n",
        "\n",
        "try:\n",
        "    df = pd.read_csv('data.csv')\n",
        "except FileNotFoundError:\n",
        "    print(\"Error: No se pudo encontrar el archivo CSV 'data.csv'. Verifica la ruta.\")\n",
        "    exit()\n",
        "directorio_imagenes = \"/content/imagenes/\"\n",
        "nombre_imagen = \"imagen.png\"\n",
        "ruta_imagen = os.path.join(directorio_imagenes, nombre_imagen)\n",
        "imagen = InlineImage(doc, ruta_imagen, width=Inches(2))\n"
      ]
    },
    {
      "cell_type": "code",
      "source": [
        "try:\n",
        "    for index, fila in df.iterrows():\n",
        "        my_context = {\n",
        "            'fecha': current_date_format(fecha),\n",
        "            'imagen': imagen\n",
        "        }\n",
        "        context = {\n",
        "            'nombre': fila['nombre'],\n",
        "            'matricula': fila['matricula'],\n",
        "            'correo': fila['correo'],\n",
        "            'papd': fila['papd'],\n",
        "            'tda': fila['tda'],\n",
        "            'english2': fila['english2'],\n",
        "            'amp': fila['amp'],\n",
        "            'aln': fila['aln'],\n",
        "        }\n",
        "        context.update(my_context)\n",
        "        doc.render(context)\n",
        "        doc.save(f\"doc_generado_{index}.docx\")\n",
        "except Exception as e:\n",
        "    print(f\"An error occurred: {e}\")\n"
      ],
      "metadata": {
        "id": "3rLvi69NmxII"
      },
      "execution_count": 34,
      "outputs": []
    }
  ]
}